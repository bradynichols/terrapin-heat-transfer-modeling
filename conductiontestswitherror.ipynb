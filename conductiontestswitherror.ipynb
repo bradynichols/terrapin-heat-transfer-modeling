{
 "cells": [
  {
   "cell_type": "code",
   "execution_count": 1,
   "metadata": {},
   "outputs": [],
   "source": [
    "# IMPORT STATEMENTS FOR ENTIRE PROJECT\n",
    "from sympy import S, symbols, printing\n",
    "from matplotlib import pyplot as plt\n",
    "import numpy as np\n",
    "import pandas as pd\n",
    "import seaborn as sns\n",
    "import glob\n",
    "import matplotlib as mpl\n",
    "mpl.rcParams['figure.dpi'] = 150\n",
    "sns.set_style('white')"
   ]
  },
  {
   "cell_type": "code",
   "execution_count": 6,
   "metadata": {},
   "outputs": [],
   "source": [
    "# -----------------------------------------------\n",
    "# MAKING THE LINEPLOTS WITH EXPERIMENTAL VS THEORETICAL DATA AND POLYFIT\n",
    "# Add a column to dataframe with seconds instead of a timestamp\n",
    "def timestamp_to_seconds(timestamp):\n",
    "    totalseconds = 0\n",
    "    timestamp2 = timestamp.split(\":\")\n",
    "    totalseconds += (int(timestamp2[1]) + (int(timestamp2[0]) * 60))\n",
    "    return totalseconds\n",
    "\n",
    "# Runs conduction heat transfer equation\n",
    "def conduction(roadtemp, shell_starting_temp, size):\n",
    "    roadtemp += 273 # Kelvin\n",
    "    t = 1 # seconds\n",
    "    k = 0.1934 # W/mK\n",
    "    T1 = shell_starting_temp + 273 # Kelvin\n",
    "    if size.lower() == \"small\": \n",
    "        d = 0.004 # m\n",
    "        A = (6542 * (10**-6)) * 0.642 # m^2\n",
    "    elif size.lower() == \"medium\":\n",
    "        d = 0.0050 # m\n",
    "        A = (9346 * (10**-6)) * 0.590 # m^2\n",
    "    return k*A*t*((roadtemp-T1)/d) # Return J transferred in that second\n",
    "\n",
    "# q = mcat, q in Joules\n",
    "def tempraised(q, size):\n",
    "    if size.lower() == \"small\":\n",
    "        m = 22.5 # g\n",
    "    elif size.lower() == \"medium\":\n",
    "        m = 36.944 # g\n",
    "    c = 1.53 # j/g/C\n",
    "    return q / (m*c) # Returns temperature raised (degrees)\n",
    "\n",
    "# Uses result from tempraised to make a list of temps\n",
    "def combine(roadtemp, seconds, start, size):\n",
    "    temps = [start]\n",
    "    for x in range(0, seconds):\n",
    "        shelltemp = temps[x]\n",
    "        temps.append(shelltemp + tempraised(conduction(roadtemp, shelltemp, size), size))\n",
    "    return temps\n",
    "\n",
    "# Returns average percent error over 2 lists\n",
    "def error(theoretical, experimental):\n",
    "    theoretical = np.array(theoretical)\n",
    "    experimental = np.array(experimental)\n",
    "    differences = (experimental - theoretical) / experimental\n",
    "    differences = abs(differences)\n",
    "    li = differences * 100\n",
    "    li = pd.DataFrame(li)\n",
    "    li.to_csv(\"%s.csv\" % str(np.average(differences) * 100))\n",
    "    return str(round(np.average(differences) * 100, 3))\n",
    "\n",
    "def graphcsv(file, titletemp):\n",
    "    # Read initial file with data\n",
    "    data = pd.read_csv(\"%s\" % file)\n",
    "    \n",
    "    # Change timestamps to seconds\n",
    "    data_secondslist = []\n",
    "    for x in data[\"Timestamp\"]:\n",
    "        data_secondslist.append(timestamp_to_seconds(x))\n",
    "    data[\"Seconds\"] = data_secondslist\n",
    "    size = data[\"Size\"][0]\n",
    "    startingtemp = data[\"Starting Temp\"][0]\n",
    "\n",
    "    # Set x and y parameters\n",
    "    xdata = np.array(data[\"Seconds\"])\n",
    "    ydata = np.array(data[\"Temperature\"])\n",
    "\n",
    "    # Get the equation fitted to a 2nd order polynomial\n",
    "    p = np.polyfit(xdata, ydata, 2) # Coefficients\n",
    "    f = np.poly1d(p) # The equation\n",
    "\n",
    "    # Format equation for display\n",
    "    # Calculate new x and y\n",
    "    x_new = np.linspace(xdata[0], xdata[-1], max(xdata)+1)\n",
    "    y_new = f(x_new)\n",
    "    x = symbols(\"x\")\n",
    "    poly = sum(S(\"{:6.6f}\".format(v))*x**i for i, v in enumerate(p[::-1]))\n",
    "    eq_latex = printing.latex(poly)\n",
    "\n",
    "    # Get theoretical data from the x and y data \n",
    "    theoretical = combine(startingtemp, max(xdata), min(y_new), size)\n",
    "\n",
    "    # Plot the experimental data\n",
    "    p1 = sns.lineplot(xdata, ydata, color='cornflowerblue', label=\"Experimental\")\n",
    "    # Plot the best fit curve\n",
    "    sns.lineplot(x_new, y_new, label=\"${}$\".format(eq_latex), color='forestgreen')\n",
    "    \n",
    "    # Plot the theoretical data\n",
    "    sns.lineplot(np.arange(len(theoretical)), theoretical, color='red', label=\"Theoretical\")\n",
    "\n",
    "    # Add text with the percent error\n",
    "    p1.text(max(x_new) - 150, max(ydata) - (0.25 * (max(ydata) - min(ydata))), \"Avg. % Error: \" + error(theoretical, y_new), \n",
    "            horizontalalignment='left', size='medium', color='black')\n",
    "    \n",
    "    print(error(theoretical, y_new))\n",
    "    \n",
    "    plt.legend(fontsize=\"small\")\n",
    "    plt.xlabel(\"Time Elapsed (seconds)\")\n",
    "    plt.ylabel(\"Internal Temperature (°C)\")\n",
    "    plt.title(\"%s, %s°C\" % (size, titletemp))\n",
    "    plt.tight_layout\n",
    "    sns.despine()\n",
    "    plt.savefig(\"./graphs/%s\" % file[:-4], dpi=600)\n",
    "    plt.close()"
   ]
  },
  {
   "cell_type": "code",
   "execution_count": 7,
   "metadata": {
    "scrolled": false
   },
   "outputs": [
    {
     "name": "stdout",
     "output_type": "stream",
     "text": [
      "2.061\n"
     ]
    }
   ],
   "source": [
    "# Performs function on every data file\n",
    "for file in glob.glob(\"data/*.csv\"):\n",
    "    graphcsv(file)"
   ]
  },
  {
   "cell_type": "markdown",
   "metadata": {},
   "source": [
    "# Analysis\n",
    "I think the male is probably less accurate because the shell itself had lots of tissue and stuff that broke the connection between the shell and the bottom / the inside of the shell and the thermocouple"
   ]
  },
  {
   "cell_type": "code",
   "execution_count": null,
   "metadata": {},
   "outputs": [],
   "source": []
  }
 ],
 "metadata": {
  "kernelspec": {
   "display_name": "Python 3",
   "language": "python",
   "name": "python3"
  },
  "language_info": {
   "codemirror_mode": {
    "name": "ipython",
    "version": 3
   },
   "file_extension": ".py",
   "mimetype": "text/x-python",
   "name": "python",
   "nbconvert_exporter": "python",
   "pygments_lexer": "ipython3",
   "version": "3.7.4"
  }
 },
 "nbformat": 4,
 "nbformat_minor": 2
}
