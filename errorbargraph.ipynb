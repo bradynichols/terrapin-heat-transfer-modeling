{
 "cells": [
  {
   "cell_type": "code",
   "execution_count": 1,
   "metadata": {},
   "outputs": [],
   "source": [
    "from sympy import S, symbols, printing\n",
    "from matplotlib import pyplot as plt\n",
    "import numpy as np\n",
    "import pandas as pd\n",
    "import seaborn as sns\n",
    "import glob\n",
    "import matplotlib as mpl\n",
    "mpl.rcParams['figure.dpi'] = 150\n",
    "sns.set_style('white')"
   ]
  },
  {
   "cell_type": "code",
   "execution_count": 4,
   "metadata": {},
   "outputs": [
    {
     "data": {
      "text/html": [
       "<div>\n",
       "<style scoped>\n",
       "    .dataframe tbody tr th:only-of-type {\n",
       "        vertical-align: middle;\n",
       "    }\n",
       "\n",
       "    .dataframe tbody tr th {\n",
       "        vertical-align: top;\n",
       "    }\n",
       "\n",
       "    .dataframe thead th {\n",
       "        text-align: right;\n",
       "    }\n",
       "</style>\n",
       "<table border=\"1\" class=\"dataframe\">\n",
       "  <thead>\n",
       "    <tr style=\"text-align: right;\">\n",
       "      <th></th>\n",
       "      <th>Trial</th>\n",
       "      <th>Error</th>\n",
       "    </tr>\n",
       "  </thead>\n",
       "  <tbody>\n",
       "    <tr>\n",
       "      <th>0</th>\n",
       "      <td>Small 45°C</td>\n",
       "      <td>0.000000</td>\n",
       "    </tr>\n",
       "    <tr>\n",
       "      <th>1</th>\n",
       "      <td>Small 45°C</td>\n",
       "      <td>0.140079</td>\n",
       "    </tr>\n",
       "    <tr>\n",
       "      <th>2</th>\n",
       "      <td>Small 45°C</td>\n",
       "      <td>0.278326</td>\n",
       "    </tr>\n",
       "    <tr>\n",
       "      <th>3</th>\n",
       "      <td>Small 45°C</td>\n",
       "      <td>0.414762</td>\n",
       "    </tr>\n",
       "    <tr>\n",
       "      <th>4</th>\n",
       "      <td>Small 45°C</td>\n",
       "      <td>0.549403</td>\n",
       "    </tr>\n",
       "    <tr>\n",
       "      <th>...</th>\n",
       "      <td>...</td>\n",
       "      <td>...</td>\n",
       "    </tr>\n",
       "    <tr>\n",
       "      <th>2129</th>\n",
       "      <td>Medium 70°C</td>\n",
       "      <td>11.002193</td>\n",
       "    </tr>\n",
       "    <tr>\n",
       "      <th>2130</th>\n",
       "      <td>Medium 70°C</td>\n",
       "      <td>11.106450</td>\n",
       "    </tr>\n",
       "    <tr>\n",
       "      <th>2131</th>\n",
       "      <td>Medium 70°C</td>\n",
       "      <td>11.211339</td>\n",
       "    </tr>\n",
       "    <tr>\n",
       "      <th>2132</th>\n",
       "      <td>Medium 70°C</td>\n",
       "      <td>11.316863</td>\n",
       "    </tr>\n",
       "    <tr>\n",
       "      <th>2133</th>\n",
       "      <td>Medium 70°C</td>\n",
       "      <td>11.423026</td>\n",
       "    </tr>\n",
       "  </tbody>\n",
       "</table>\n",
       "<p>2134 rows × 2 columns</p>\n",
       "</div>"
      ],
      "text/plain": [
       "            Trial      Error\n",
       "0      Small 45°C   0.000000\n",
       "1      Small 45°C   0.140079\n",
       "2      Small 45°C   0.278326\n",
       "3      Small 45°C   0.414762\n",
       "4      Small 45°C   0.549403\n",
       "...           ...        ...\n",
       "2129  Medium 70°C  11.002193\n",
       "2130  Medium 70°C  11.106450\n",
       "2131  Medium 70°C  11.211339\n",
       "2132  Medium 70°C  11.316863\n",
       "2133  Medium 70°C  11.423026\n",
       "\n",
       "[2134 rows x 2 columns]"
      ]
     },
     "execution_count": 4,
     "metadata": {},
     "output_type": "execute_result"
    }
   ],
   "source": [
    "# -----------------------------------------------\n",
    "# MAKING BARPLOT WITH ERRORS FOR EACH CONDUCTION TRIAL\n",
    "# Reading data\n",
    "data = pd.read_excel(\"errors.xlsx\")"
   ]
  },
  {
   "cell_type": "code",
   "execution_count": 17,
   "metadata": {
    "scrolled": false
   },
   "outputs": [
    {
     "data": {
      "image/png": "[encoded data removed]",
      "text/plain": [
       "<Figure size 432x288 with 1 Axes>"
      ]
     },
     "metadata": {
      "needs_background": "light"
     },
     "output_type": "display_data"
    }
   ],
   "source": [
    "# -----------------------------------------------\n",
    "# MAKING BARPLOT WITH ERRORS FOR EACH CONDUCTION TRIAL\n",
    "# Reading data\n",
    "data = pd.read_excel(\"errors.xlsx\")\n",
    "g = sns.barplot(x=\"Trial\", y=\"Error\", data=data,\n",
    "                ci=\"sd\", capsize=0.03, errwidth=1.2, palette='gist_heat')\n",
    "\n",
    "plt.xlabel(\"Size and Temperature\")\n",
    "plt.ylabel(\"Average Percent Error\")\n",
    "plt.title(\"Average Error Per Test\")\n",
    "\n",
    "\n",
    "plt.savefig(\"./graphs/errorbargraph.png\", dpi=600)"
   ]
  },
  {
   "cell_type": "code",
   "execution_count": null,
   "metadata": {},
   "outputs": [],
   "source": []
  }
 ],
 "metadata": {
  "kernelspec": {
   "display_name": "Python 3",
   "language": "python",
   "name": "python3"
  },
  "language_info": {
   "codemirror_mode": {
    "name": "ipython",
    "version": 3
   },
   "file_extension": ".py",
   "mimetype": "text/x-python",
   "name": "python",
   "nbconvert_exporter": "python",
   "pygments_lexer": "ipython3",
   "version": "3.7.4"
  }
 },
 "nbformat": 4,
 "nbformat_minor": 2
}
